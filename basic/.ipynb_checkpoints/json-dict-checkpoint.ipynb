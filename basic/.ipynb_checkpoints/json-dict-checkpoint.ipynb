{
 "cells": [
  {
   "cell_type": "code",
   "execution_count": 16,
   "metadata": {},
   "outputs": [
    {
     "name": "stdout",
     "output_type": "stream",
     "text": [
      "{'name': '翠花', 'age': 18, 'nickname': 'GreenFlower'}\n",
      "{\"name\": \"翠花\", \"age\": 18, \"nickname\": \"GreenFlower\"}\n",
      "{'name': '翠花', 'age': 18, 'nickname': 'GreenFlower'}\n"
     ]
    }
   ],
   "source": [
    "import json\n",
    "# 原始数据\n",
    "dict1 = {\n",
    "    'name': '翠花',\n",
    "    \"age\": 18,\n",
    "    'nickname': 'GreenFlower',\n",
    "}\n",
    "print(dict1)\n",
    " \n",
    "# 将字典转换为JSON格式的字符串\n",
    "t1 = json.dumps(dict1, ensure_ascii=False)\n",
    "print(t1)\n",
    "# 将JSON格式的字符串转换为字典\n",
    "t2=json.loads(t1)\n",
    "print(t2)"
   ]
  }
 ],
 "metadata": {
  "kernelspec": {
   "display_name": "Python 3",
   "language": "python",
   "name": "python3"
  },
  "language_info": {
   "codemirror_mode": {
    "name": "ipython",
    "version": 3
   },
   "file_extension": ".py",
   "mimetype": "text/x-python",
   "name": "python",
   "nbconvert_exporter": "python",
   "pygments_lexer": "ipython3",
   "version": "3.7.1"
  },
  "toc": {
   "base_numbering": 1,
   "nav_menu": {},
   "number_sections": true,
   "sideBar": true,
   "skip_h1_title": false,
   "title_cell": "Table of Contents",
   "title_sidebar": "Contents",
   "toc_cell": false,
   "toc_position": {},
   "toc_section_display": true,
   "toc_window_display": false
  }
 },
 "nbformat": 4,
 "nbformat_minor": 2
}
