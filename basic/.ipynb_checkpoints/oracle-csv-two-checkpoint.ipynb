{
 "cells": [
  {
   "cell_type": "code",
   "execution_count": 12,
   "metadata": {},
   "outputs": [],
   "source": [
    "#!/usr/bin/python\n",
    "# -*- coding: UTF-8 -*-\n",
    "import sys\n",
    "import csv\n",
    "import cx_Oracle\n",
    "import codecs\n",
    "import os\n",
    "os.environ['NLS_LANG'] = 'SIMPLIFIED CHINESE_CHINA.UTF8'\n",
    "con = cx_Oracle.connect('AMLM', 'AMLM', '192.168.1.166:3221/xe')\n",
    "printHeader = True # include column headers in each table outpu\n",
    "table ='c_case'\n",
    "sql = \"select * from \"+ table\n",
    "csv_file_dest = table + \".csv\"\n",
    "# outputFile = open(csv_file_dest,'w') # 'wb'\n",
    "with open(csv_file_dest,'w',newline='',encoding='utf-8-sig') as csvfile:\n",
    "    output = csv.writer(csvfile, dialect='excel')\n",
    "    curs2 = con.cursor()\n",
    "    curs2.execute(sql)\n",
    "    if printHeader: # add column headers if requested\n",
    "      cols = []\n",
    "      for col in curs2.description:\n",
    "        cols.append(col[0])\n",
    "      output.writerow(cols)\n",
    "    for row_data in curs2: # add table rows\n",
    "      output.writerow(row_data)\n",
    "    csvfile.close()"
   ]
  }
 ],
 "metadata": {
  "kernelspec": {
   "display_name": "Python 3",
   "language": "python",
   "name": "python3"
  },
  "language_info": {
   "codemirror_mode": {
    "name": "ipython",
    "version": 3
   },
   "file_extension": ".py",
   "mimetype": "text/x-python",
   "name": "python",
   "nbconvert_exporter": "python",
   "pygments_lexer": "ipython3",
   "version": "3.7.1"
  },
  "toc": {
   "base_numbering": 1,
   "nav_menu": {},
   "number_sections": true,
   "sideBar": true,
   "skip_h1_title": false,
   "title_cell": "Table of Contents",
   "title_sidebar": "Contents",
   "toc_cell": false,
   "toc_position": {},
   "toc_section_display": true,
   "toc_window_display": false
  }
 },
 "nbformat": 4,
 "nbformat_minor": 2
}
