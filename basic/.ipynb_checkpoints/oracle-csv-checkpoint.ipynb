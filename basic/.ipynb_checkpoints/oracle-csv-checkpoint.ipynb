{
 "cells": [
  {
   "cell_type": "code",
   "execution_count": null,
   "metadata": {},
   "outputs": [],
   "source": [
    "import sys\n",
    "import csv\n",
    "import cx_Oracle\n",
    "con = cx_Oracle.connect('AMLM', 'AMLM', '192.168.1.166:3221/xe')\n",
    "curs = con.cursor()\n",
    "printHeader = True # include column headers in each table output\n",
    "sql = \"select * from tab\" # get a list of all tables\n",
    "curs.execute(sql)\n",
    "for row_data in curs:\n",
    "  if not row_data[0].startswith('BIN$'): # skip recycle bin tables\n",
    "    tableName = row_data[0]\n",
    "    # output each table content to a separate CSV file\n",
    "    csv_file_dest = tableName + \".csv\"\n",
    "    outputFile = open(csv_file_dest,'w') # 'wb'\n",
    "    output = csv.writer(outputFile, dialect='excel')\n",
    "    sql = \"select * from \" + tableName\n",
    "    curs2 = orcl.cursor()\n",
    "    curs2.execute(sql)\n",
    "    if printHeader: # add column headers if requested\n",
    "      cols = []\n",
    "      for col in curs2.description:\n",
    "        cols.append(col[0])\n",
    "      output.writerow(cols)\n",
    "    for row_data in curs2: # add table rows\n",
    "      output.writerow(row_data)\n",
    "    outputFile.close()"
   ]
  }
 ],
 "metadata": {
  "kernelspec": {
   "display_name": "Python 3",
   "language": "python",
   "name": "python3"
  },
  "language_info": {
   "codemirror_mode": {
    "name": "ipython",
    "version": 3
   },
   "file_extension": ".py",
   "mimetype": "text/x-python",
   "name": "python",
   "nbconvert_exporter": "python",
   "pygments_lexer": "ipython3",
   "version": "3.7.1"
  },
  "toc": {
   "base_numbering": 1,
   "nav_menu": {},
   "number_sections": true,
   "sideBar": true,
   "skip_h1_title": false,
   "title_cell": "Table of Contents",
   "title_sidebar": "Contents",
   "toc_cell": false,
   "toc_position": {},
   "toc_section_display": true,
   "toc_window_display": false
  }
 },
 "nbformat": 4,
 "nbformat_minor": 2
}
