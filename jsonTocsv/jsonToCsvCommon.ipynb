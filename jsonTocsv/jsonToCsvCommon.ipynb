{
 "cells": [
  {
   "cell_type": "code",
   "execution_count": 1,
   "metadata": {},
   "outputs": [],
   "source": [
    "import json\n",
    "import csv\n",
    "import codecs\n",
    "\n",
    "fr=open('./city.json',encoding='utf-8')  #打开json文件\n",
    "ls=json.load(fr)  #将json格式的字符串转换成python的数据类型，解码过程\n",
    "data=[ list(ls[0].keys()) ]  #获取列名,即key\n",
    "for item in ls:\n",
    "    data.append(list(item.values()))  #获取每一行的值value\n",
    "fr.close()  #关闭json文件\n",
    "\n",
    "fw=codecs.open('city.csv', 'w', 'utf_8')  #打开csv为文件\n",
    "for line in data:\n",
    "    fw.write(\",\".join(line)+\"\\n\")  #以逗号分隔一行的每个元素，最后换行\n",
    "fw.close()  #关闭csv文件\n",
    "\n"
   ]
  }
 ],
 "metadata": {
  "kernelspec": {
   "display_name": "Python 3",
   "language": "python",
   "name": "python3"
  },
  "language_info": {
   "codemirror_mode": {
    "name": "ipython",
    "version": 3
   },
   "file_extension": ".py",
   "mimetype": "text/x-python",
   "name": "python",
   "nbconvert_exporter": "python",
   "pygments_lexer": "ipython3",
   "version": "3.7.3"
  },
  "toc": {
   "base_numbering": 1,
   "nav_menu": {},
   "number_sections": true,
   "sideBar": true,
   "skip_h1_title": false,
   "title_cell": "Table of Contents",
   "title_sidebar": "Contents",
   "toc_cell": false,
   "toc_position": {},
   "toc_section_display": true,
   "toc_window_display": false
  }
 },
 "nbformat": 4,
 "nbformat_minor": 2
}
