{
 "cells": [
  {
   "cell_type": "code",
   "execution_count": 34,
   "metadata": {},
   "outputs": [],
   "source": [
    "from pyspark.sql import SQLContext\n",
    "from pyspark import SparkContext\n",
    "from pyspark import SparkConf\n",
    "\n",
    "conf=SparkConf().setAppName(\"miniProject\").setMaster(\"local[*]\")\n",
    "sc=SparkContext.getOrCreate(conf)\n",
    "\n",
    "sqlContext = SQLContext(sc)\n",
    "sqlContext\n",
    "dataframe= sqlContext.read.format(\"jdbc\").options(url=\"jdbc:postgresql://192.168.1.166:5432/postgres\", driver=\"org.postgresql.Driver\", dbtable=\"aml.a\", user=\"postgres\", password=\"123456\").load()"
   ]
  },
  {
   "cell_type": "code",
   "execution_count": 10,
   "metadata": {},
   "outputs": [
    {
     "data": {
      "text/plain": [
       "2"
      ]
     },
     "execution_count": 10,
     "metadata": {},
     "output_type": "execute_result"
    }
   ],
   "source": [
    "# 参考 https://blog.csdn.net/sinat_26917383/article/details/80500349\n",
    "# dataframe.show()\n",
    "# dataframe.show(1)\n",
    "# dataframe.printSchema() \n",
    "# list = dataframe.head(1)\n",
    "# int_num = dataframe.count()"
   ]
  },
  {
   "cell_type": "code",
   "execution_count": 46,
   "metadata": {},
   "outputs": [
    {
     "name": "stdout",
     "output_type": "stream",
     "text": [
      "  id     cate_dt\n",
      "0  1  2014-01-16\n",
      "1  2        None\n"
     ]
    }
   ],
   "source": [
    "from pyspark.sql.functions import isnull\n",
    "import pandas as pd\n",
    "# dataframe = dataframe.filter(isnull(\"cate_dt\")).show()\n",
    "# list = dataframe.collect()\n",
    "# dataframe.select('cate_dt').distinct().show()\n",
    "# sample = dataframe.sample(False,0.5,0).show() # randomly select 50% of lines \n",
    "# dataframe.select('id').show()\n",
    "# dataframe.select(dataframe.id, dataframe.cate_dt).show()\n",
    "# dataframe .where(\"id = '1'\" ).show()\n",
    "# dataframe.orderBy(dataframe.id.desc())\n",
    "# pandas_df = dataframe.toPandas() # sprakdataframe ->pandas dataframe\n",
    "# spark_df = sqlContext.createDataFrame(pandas_df) # pandas dataframe->sprakdataframe"
   ]
  },
  {
   "cell_type": "code",
   "execution_count": null,
   "metadata": {},
   "outputs": [],
   "source": [
    "from pyspark.sql import functions as F\n",
    "# dataframe.select(dataframe.name, F.when(dataframe.age > 4, 1).when(dataframe.age < 3, -1).otherwise(0)).show()\n",
    "# dataframe.select(dataframe.name, dataframe.age.between(2, 4)).show()"
   ]
  },
  {
   "cell_type": "code",
   "execution_count": null,
   "metadata": {},
   "outputs": [],
   "source": []
  }
 ],
 "metadata": {
  "kernelspec": {
   "display_name": "Python 3",
   "language": "python",
   "name": "python3"
  },
  "language_info": {
   "codemirror_mode": {
    "name": "ipython",
    "version": 3
   },
   "file_extension": ".py",
   "mimetype": "text/x-python",
   "name": "python",
   "nbconvert_exporter": "python",
   "pygments_lexer": "ipython3",
   "version": "3.7.3"
  },
  "toc": {
   "base_numbering": 1,
   "nav_menu": {},
   "number_sections": true,
   "sideBar": true,
   "skip_h1_title": false,
   "title_cell": "Table of Contents",
   "title_sidebar": "Contents",
   "toc_cell": false,
   "toc_position": {},
   "toc_section_display": true,
   "toc_window_display": false
  }
 },
 "nbformat": 4,
 "nbformat_minor": 2
}
