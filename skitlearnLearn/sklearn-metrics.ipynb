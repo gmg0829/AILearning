{
 "cells": [
  {
   "cell_type": "code",
   "execution_count": 4,
   "metadata": {},
   "outputs": [
    {
     "name": "stdout",
     "output_type": "stream",
     "text": [
      "              precision    recall  f1-score   support\n",
      "\n",
      "     class_a       1.00      0.50      0.67         2\n",
      "     class_b       0.67      1.00      0.80         2\n",
      "     class_c       1.00      1.00      1.00         1\n",
      "\n",
      "   micro avg       0.80      0.80      0.80         5\n",
      "   macro avg       0.89      0.83      0.82         5\n",
      "weighted avg       0.87      0.80      0.79         5\n",
      "\n"
     ]
    }
   ],
   "source": [
    "## 分类评估指标报告\n",
    "#  micro avg 微平均 macro avg 宏平均  weighted avg 加权平均精确率输出\n",
    "from sklearn.metrics import classification_report\n",
    "y_true=['a','b','c','a','b']\n",
    "y_pre=['b','b','c','a','b']\n",
    "target_names=['class_a','class_b','class_c']\n",
    "print(classification_report(y_true,y_pre,target_names=target_names))"
   ]
  },
  {
   "cell_type": "code",
   "execution_count": 9,
   "metadata": {},
   "outputs": [
    {
     "data": {
      "text/plain": [
       "0.6666666666666666"
      ]
     },
     "execution_count": 9,
     "metadata": {},
     "output_type": "execute_result"
    }
   ],
   "source": [
    "#二分类\n",
    "from sklearn.metrics import precision_score, recall_score, f1_score\n",
    " \n",
    "y_true = [0, 1, 1, 0, 1, 0]\n",
    "y_pred = [1, 1, 1, 0, 0, 1]\n",
    " \n",
    "# Precision = precision_score(y_true, y_pred, average='binary')\n",
    "recall = recall_score(y_true, y_pred, average='binary')\n",
    "f1-score = f1_score(y_true, y_pred, average='binary')"
   ]
  },
  {
   "cell_type": "code",
   "execution_count": 10,
   "metadata": {},
   "outputs": [
    {
     "name": "stdout",
     "output_type": "stream",
     "text": [
      "准确率: 0.5714285714285714\n",
      "宏平均精确率: 0.58\n",
      "微平均精确率: 0.5714285714285714\n",
      "加权平均精确率: 0.7999999999999999\n"
     ]
    },
    {
     "name": "stderr",
     "output_type": "stream",
     "text": [
      "D:\\Anaconda3\\lib\\site-packages\\sklearn\\metrics\\classification.py:1145: UndefinedMetricWarning: Recall is ill-defined and being set to 0.0 in labels with no true samples.\n",
      "  'recall', 'true', average, warn_for)\n"
     ]
    },
    {
     "name": "stdout",
     "output_type": "stream",
     "text": [
      "宏平均召回率: 0.4533333333333333\n",
      "微平均召回率: 0.5714285714285714\n",
      "加权平均召回率: 0.5714285714285714\n",
      "宏平均F1-score: 0.6041666666666666\n",
      "微平均F1-score: 0.6153846153846153\n",
      "加权平均F1-score: 0.6369047619047619\n",
      "混淆矩阵输出:\n",
      " [[0 0 0 0 0]\n",
      " [2 3 0 0 0]\n",
      " [0 0 2 2 0]\n",
      " [0 0 0 2 1]\n",
      " [0 0 0 1 1]]\n",
      "分类报告:\n",
      "               precision    recall  f1-score   support\n",
      "\n",
      "           0       0.00      0.00      0.00         0\n",
      "           1       1.00      0.60      0.75         5\n",
      "           2       1.00      0.50      0.67         4\n",
      "           3       0.40      0.67      0.50         3\n",
      "           4       0.50      0.50      0.50         2\n",
      "\n",
      "   micro avg       0.57      0.57      0.57        14\n",
      "   macro avg       0.58      0.45      0.48        14\n",
      "weighted avg       0.80      0.57      0.64        14\n",
      "\n"
     ]
    },
    {
     "name": "stderr",
     "output_type": "stream",
     "text": [
      "D:\\Anaconda3\\lib\\site-packages\\sklearn\\metrics\\classification.py:1145: UndefinedMetricWarning: Recall and F-score are ill-defined and being set to 0.0 in labels with no true samples.\n",
      "  'recall', 'true', average, warn_for)\n"
     ]
    }
   ],
   "source": [
    " \n",
    "from sklearn import metrics\n",
    " \n",
    "y_test    = [1, 1, 1, 1, 1, 2, 2, 2, 2, 3, 3, 3, 4, 4]\n",
    "y_predict = [1, 1, 1, 0, 0, 2, 2, 3, 3, 3, 4, 3, 4, 3]\n",
    " \n",
    "print('准确率:', metrics.accuracy_score(y_test, y_predict)) #预测准确率输出\n",
    " \n",
    "print('宏平均精确率:',metrics.precision_score(y_test,y_predict,average='macro')) #预测宏平均精确率输出\n",
    "print('微平均精确率:', metrics.precision_score(y_test, y_predict, average='micro')) #预测微平均精确率输出\n",
    "print('加权平均精确率:', metrics.precision_score(y_test, y_predict, average='weighted')) #预测加权平均精确率输出\n",
    " \n",
    "print('宏平均召回率:',metrics.recall_score(y_test,y_predict,average='macro'))#预测宏平均召回率输出\n",
    "print('微平均召回率:',metrics.recall_score(y_test,y_predict,average='micro'))#预测微平均召回率输出\n",
    "print('加权平均召回率:',metrics.recall_score(y_test,y_predict,average='micro'))#预测加权平均召回率输出\n",
    " \n",
    "print('宏平均F1-score:',metrics.f1_score(y_test,y_predict,labels=[1,2,3,4],average='macro'))#预测宏平均f1-score输出\n",
    "print('微平均F1-score:',metrics.f1_score(y_test,y_predict,labels=[1,2,3,4],average='micro'))#预测微平均f1-score输出\n",
    "print('加权平均F1-score:',metrics.f1_score(y_test,y_predict,labels=[1,2,3,4],average='weighted'))#预测加权平均f1-score输出\n",
    " \n",
    "print('混淆矩阵输出:\\n',metrics.confusion_matrix(y_test,y_predict))#混淆矩阵输出\n",
    "print('分类报告:\\n', metrics.classification_report(y_test, y_predict))#分类报告输出"
   ]
  }
 ],
 "metadata": {
  "kernelspec": {
   "display_name": "Python 3",
   "language": "python",
   "name": "python3"
  },
  "language_info": {
   "codemirror_mode": {
    "name": "ipython",
    "version": 3
   },
   "file_extension": ".py",
   "mimetype": "text/x-python",
   "name": "python",
   "nbconvert_exporter": "python",
   "pygments_lexer": "ipython3",
   "version": "3.7.1"
  },
  "toc": {
   "base_numbering": 1,
   "nav_menu": {},
   "number_sections": true,
   "sideBar": true,
   "skip_h1_title": false,
   "title_cell": "Table of Contents",
   "title_sidebar": "Contents",
   "toc_cell": false,
   "toc_position": {},
   "toc_section_display": true,
   "toc_window_display": false
  }
 },
 "nbformat": 4,
 "nbformat_minor": 2
}
