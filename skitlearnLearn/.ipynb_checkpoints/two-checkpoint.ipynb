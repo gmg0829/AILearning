{
 "cells": [
  {
   "cell_type": "code",
   "execution_count": 1,
   "metadata": {},
   "outputs": [
    {
     "name": "stdout",
     "output_type": "stream",
     "text": [
      "Time: 31.403537034988403\n"
     ]
    }
   ],
   "source": [
    "from sklearn.ensemble import RandomForestClassifier\n",
    "from sklearn import datasets\n",
    "import time\n",
    "\n",
    "X, y = datasets.make_classification(n_samples=10000, n_features=50, n_informative=20, n_classes=10)\n",
    "\n",
    "start = time.time()\n",
    "model = RandomForestClassifier(n_estimators=500)\n",
    "model.fit(X, y)\n",
    "print('Time:', time.time()-start)"
   ]
  },
  {
   "cell_type": "code",
   "execution_count": 2,
   "metadata": {},
   "outputs": [
    {
     "name": "stdout",
     "output_type": "stream",
     "text": [
      "Time: 16.322725296020508\n"
     ]
    }
   ],
   "source": [
    "from sklearn.ensemble import RandomForestClassifier\n",
    "from sklearn import datasets\n",
    "import time\n",
    "\n",
    "X, y = datasets.make_classification(n_samples=10000, n_features=50, n_informative=20, n_classes=10)\n",
    "\n",
    "start = time.time()\n",
    "# n_jobs 进程数\n",
    "model = RandomForestClassifier(n_estimators=500, n_jobs=4)\n",
    "model.fit(X, y)\n",
    "print('Time:', time.time()-start)"
   ]
  }
 ],
 "metadata": {
  "kernelspec": {
   "display_name": "Python 3",
   "language": "python",
   "name": "python3"
  },
  "language_info": {
   "codemirror_mode": {
    "name": "ipython",
    "version": 3
   },
   "file_extension": ".py",
   "mimetype": "text/x-python",
   "name": "python",
   "nbconvert_exporter": "python",
   "pygments_lexer": "ipython3",
   "version": "3.7.1"
  },
  "toc": {
   "base_numbering": 1,
   "nav_menu": {},
   "number_sections": true,
   "sideBar": true,
   "skip_h1_title": false,
   "title_cell": "Table of Contents",
   "title_sidebar": "Contents",
   "toc_cell": false,
   "toc_position": {},
   "toc_section_display": true,
   "toc_window_display": false
  }
 },
 "nbformat": 4,
 "nbformat_minor": 2
}
