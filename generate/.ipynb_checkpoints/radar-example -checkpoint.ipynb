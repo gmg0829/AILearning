{
 "cells": [
  {
   "cell_type": "code",
   "execution_count": null,
   "metadata": {},
   "outputs": [],
   "source": [
    "import radar\n",
    "import datetime\n",
    "\n",
    "#随机日期\n",
    "print(radar.random_date())\n",
    "#随机日期+时间\n",
    "print(radar.random_datetime())\n",
    "#随机时间\n",
    "print(radar.random_time())\n",
    "#指定范围随机日期\n",
    "print(radar.random_date(\n",
    "start=datetime.datetime(year=1985, month=1, day=1),\n",
    "stop=datetime.datetime(year=1989, month=12, day=30)))\n",
    "#指定范围随机日期+时间\n",
    "print(radar.random_datetime(\n",
    "start=datetime.datetime(year=1985, month=1, day=1),\n",
    "stop=datetime.datetime(year=1989, month=12, day=30)))\n",
    "#指定范围随机时间\n",
    "print(radar.random_time(\n",
    "start=\"2018-01-10T09:00:10\",\n",
    "stop=\"2018-01-10T18:00:00\"))\n",
    "#radar默认使用python-dateutil库来解析日期，但是这个库非常heavy，可以选择使用轻量级的radar.utils.parse(快5倍)\n",
    "print(radar.random_datetime(\n",
    "start=\"2018-01-10T09:00:10\",\n",
    "stop=\"2018-01-10T18:00:00\",\n",
    "parse=radar.utils.parse))\n",
    "#radar.utils.parse usage\n",
    "start = radar.utils.parse('2018-01-01')\n",
    "stop = radar.utils.parse('2018-01-05')\n",
    "print(radar.random_datetime(start=start, stop=stop))"
   ]
  }
 ],
 "metadata": {
  "kernelspec": {
   "display_name": "Python 3",
   "language": "python",
   "name": "python3"
  },
  "language_info": {
   "codemirror_mode": {
    "name": "ipython",
    "version": 3
   },
   "file_extension": ".py",
   "mimetype": "text/x-python",
   "name": "python",
   "nbconvert_exporter": "python",
   "pygments_lexer": "ipython3",
   "version": "3.7.1"
  },
  "toc": {
   "base_numbering": 1,
   "nav_menu": {},
   "number_sections": true,
   "sideBar": true,
   "skip_h1_title": false,
   "title_cell": "Table of Contents",
   "title_sidebar": "Contents",
   "toc_cell": false,
   "toc_position": {},
   "toc_section_display": true,
   "toc_window_display": false
  }
 },
 "nbformat": 4,
 "nbformat_minor": 2
}
