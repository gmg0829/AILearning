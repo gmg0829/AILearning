{
 "cells": [
  {
   "cell_type": "code",
   "execution_count": null,
   "metadata": {},
   "outputs": [],
   "source": [
    "#lipsum是一个随机文本语句和片段生成器。生成的文本有意义的lorem ipsum文本。\n",
    "import lipsum\n",
    "\n",
    "print(\"generate 10 words\")\n",
    "print(lipsum.generate_words(10))\n",
    "\n",
    "print(\"*\" * 50)\n",
    "print(\"generate 3 sentences\")\n",
    "for x in lipsum.generate_sentences(3).split('.'):\n",
    "    print(x.strip())\n",
    "\n",
    "print(\"*\" * 50)\n",
    "print(\"generate 3 paras\")\n",
    "for x in lipsum.generate_paragraphs(3).split('\\n'):\n",
    "    print(x)"
   ]
  }
 ],
 "metadata": {
  "kernelspec": {
   "display_name": "Python 3",
   "language": "python",
   "name": "python3"
  },
  "language_info": {
   "codemirror_mode": {
    "name": "ipython",
    "version": 3
   },
   "file_extension": ".py",
   "mimetype": "text/x-python",
   "name": "python",
   "nbconvert_exporter": "python",
   "pygments_lexer": "ipython3",
   "version": "3.7.1"
  },
  "toc": {
   "base_numbering": 1,
   "nav_menu": {},
   "number_sections": true,
   "sideBar": true,
   "skip_h1_title": false,
   "title_cell": "Table of Contents",
   "title_sidebar": "Contents",
   "toc_cell": false,
   "toc_position": {},
   "toc_section_display": true,
   "toc_window_display": false
  }
 },
 "nbformat": 4,
 "nbformat_minor": 2
}
