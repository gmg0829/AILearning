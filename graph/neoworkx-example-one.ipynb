{
 "cells": [
  {
   "cell_type": "code",
   "execution_count": 15,
   "metadata": {},
   "outputs": [
    {
     "name": "stdout",
     "output_type": "stream",
     "text": [
      "[[ 0 16]\n",
      " [ 1  9]\n",
      " [ 2 10]\n",
      " [ 3  6]\n",
      " [ 4  3]\n",
      " [ 5  4]\n",
      " [ 6  4]\n",
      " [ 7  4]\n",
      " [ 8  5]\n",
      " [ 9  2]\n",
      " [10  3]\n",
      " [11  1]\n",
      " [12  2]\n",
      " [13  5]\n",
      " [14  2]\n",
      " [15  2]\n",
      " [16  2]\n",
      " [17  2]\n",
      " [18  2]\n",
      " [19  3]\n",
      " [20  2]\n",
      " [21  2]\n",
      " [22  2]\n",
      " [23  5]\n",
      " [24  3]\n",
      " [25  3]\n",
      " [26  2]\n",
      " [27  4]\n",
      " [28  3]\n",
      " [29  4]\n",
      " [30  4]\n",
      " [31  6]\n",
      " [32 12]\n",
      " [33 17]]\n"
     ]
    }
   ],
   "source": [
    "import numpy as np\n",
    "import random\n",
    "import networkx as nx\n",
    "import matplotlib.pyplot as plt\n",
    "\n",
    "# Load the graph\n",
    "G_karate = nx.karate_club_graph()\n",
    "# Find key-values for the graph\n",
    "pos = nx.spring_layout(G_karate)\n",
    "# Plot the graph\n",
    "# nx.draw(G_karate, cmap = plt.get_cmap('rainbow'), with_labels=True, pos=pos)\n",
    "# 节点的度\n",
    "# G_karate.degree()\n",
    "degree_sequence = list(G_karate.degree())\n",
    "# print(degree_sequence)\n",
    "nb_arr = len(G_karate.edges())\n",
    "avg_degree = np.mean(np.array(degree_sequence)[:,1])\n",
    "med_degree = np.median(np.array(degree_sequence)[:,1])\n",
    "max_degree = max(np.array(degree_sequence)[:,1])\n",
    "min_degree = np.min(np.array(degree_sequence)[:,1])\n",
    "# print(\"Number of edges : \" + str(nb_arr))\n",
    "# print(\"Maximum degree : \" + str(max_degree))\n",
    "# print(\"Minimum degree : \" + str(min_degree))\n",
    "# print(\"Average degree : \" + str(avg_degree))\n",
    "# print(\"Median degree : \" + str(med_degree))\n",
    "print(np.array(degree_sequence))"
   ]
  },
  {
   "cell_type": "code",
   "execution_count": 20,
   "metadata": {},
   "outputs": [
    {
     "ename": "IndentationError",
     "evalue": "expected an indented block (<ipython-input-20-5aec184ca29a>, line 11)",
     "output_type": "error",
     "traceback": [
      "\u001b[1;36m  File \u001b[1;32m\"<ipython-input-20-5aec184ca29a>\"\u001b[1;36m, line \u001b[1;32m11\u001b[0m\n\u001b[1;33m    nx.is_connected(G_karate)\u001b[0m\n\u001b[1;37m     ^\u001b[0m\n\u001b[1;31mIndentationError\u001b[0m\u001b[1;31m:\u001b[0m expected an indented block\n"
     ]
    }
   ],
   "source": [
    "# 算法(最短路径)\n",
    "nx.shortest_path(G_karate)\n",
    "\n",
    "#社群检测 k=1 的意思是我们期望得到 2 个社群\n",
    "from networkx.algorithms import community\n",
    "import itertools\n",
    "k = 1\n",
    "comp = community.girvan_newman(G_karate)\n",
    "for communities in itertools.islice(comp, k):\n",
    "    print(tuple(sorted(c) for c in communities))    "
   ]
  },
  {
   "cell_type": "code",
   "execution_count": 23,
   "metadata": {},
   "outputs": [
    {
     "data": {
      "text/plain": [
       "True"
      ]
     },
     "execution_count": 23,
     "metadata": {},
     "output_type": "execute_result"
    }
   ],
   "source": [
    "\"\"\"\n",
    "机器之心\n",
    "\"\"\"\n",
    "nx.is_connected(G_karate)"
   ]
  }
 ],
 "metadata": {
  "kernelspec": {
   "display_name": "Python 3",
   "language": "python",
   "name": "python3"
  },
  "language_info": {
   "codemirror_mode": {
    "name": "ipython",
    "version": 3
   },
   "file_extension": ".py",
   "mimetype": "text/x-python",
   "name": "python",
   "nbconvert_exporter": "python",
   "pygments_lexer": "ipython3",
   "version": "3.7.1"
  },
  "toc": {
   "base_numbering": 1,
   "nav_menu": {},
   "number_sections": true,
   "sideBar": true,
   "skip_h1_title": false,
   "title_cell": "Table of Contents",
   "title_sidebar": "Contents",
   "toc_cell": false,
   "toc_position": {},
   "toc_section_display": true,
   "toc_window_display": false
  }
 },
 "nbformat": 4,
 "nbformat_minor": 2
}
