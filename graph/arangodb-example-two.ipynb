{
 "cells": [
  {
   "cell_type": "code",
   "execution_count": 2,
   "metadata": {},
   "outputs": [
    {
     "name": "stdout",
     "output_type": "stream",
     "text": [
      "myKey1\n",
      "myKey\n",
      "4453\n"
     ]
    }
   ],
   "source": [
    "from pyArango.connection import *\n",
    "\n",
    "# 用户名\n",
    "username = \"root\"\n",
    "# 密码\n",
    "password = \"root\"\n",
    "# arangodb地址\n",
    "arangoURL = \"http://192.168.254.134:8529\"\n",
    "# connect arangodb\n",
    "conn = Connection(username=username, password=password, arangoURL=arangoURL)\n",
    "db = conn[\"mydb\"]\n",
    "aql = \"FOR x IN firstCollection RETURN x._key\"\n",
    "queryResult = db.AQLQuery(aql, rawResults=True, batchSize=100)\n",
    "for key in queryResult:\n",
    "   print(key)"
   ]
  }
 ],
 "metadata": {
  "kernelspec": {
   "display_name": "Python 3",
   "language": "python",
   "name": "python3"
  },
  "language_info": {
   "codemirror_mode": {
    "name": "ipython",
    "version": 3
   },
   "file_extension": ".py",
   "mimetype": "text/x-python",
   "name": "python",
   "nbconvert_exporter": "python",
   "pygments_lexer": "ipython3",
   "version": "3.7.3"
  },
  "toc": {
   "base_numbering": 1,
   "nav_menu": {},
   "number_sections": true,
   "sideBar": true,
   "skip_h1_title": false,
   "title_cell": "Table of Contents",
   "title_sidebar": "Contents",
   "toc_cell": false,
   "toc_position": {},
   "toc_section_display": true,
   "toc_window_display": false
  }
 },
 "nbformat": 4,
 "nbformat_minor": 2
}
