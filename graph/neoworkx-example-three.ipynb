{
 "cells": [
  {
   "cell_type": "code",
   "execution_count": 1,
   "metadata": {},
   "outputs": [],
   "source": [
    "import networkx as nx"
   ]
  },
  {
   "cell_type": "code",
   "execution_count": 2,
   "metadata": {},
   "outputs": [],
   "source": [
    "edgelist = [['Mannheim', 'Frankfurt', 85], ['Mannheim', 'Karlsruhe', 80], ['Erfurt', 'Wurzburg', 186], ['Munchen', 'Numberg', 167], ['Munchen', 'Augsburg', 84], ['Munchen', 'Kassel', 502], ['Numberg', 'Stuttgart', 183], ['Numberg', 'Wurzburg', 103], ['Numberg', 'Munchen', 167], ['Stuttgart', 'Numberg', 183], ['Augsburg', 'Munchen', 84], ['Augsburg', 'Karlsruhe', 250], ['Kassel', 'Munchen', 502], ['Kassel', 'Frankfurt', 173], ['Frankfurt', 'Mannheim', 85], ['Frankfurt', 'Wurzburg', 217], ['Frankfurt', 'Kassel', 173], ['Wurzburg', 'Numberg', 103], ['Wurzburg', 'Erfurt', 186], ['Wurzburg', 'Frankfurt', 217], ['Karlsruhe', 'Mannheim', 80], ['Karlsruhe', 'Augsburg', 250],[\"Mumbai\", \"Delhi\",400],[\"Delhi\", \"Kolkata\",500],[\"Kolkata\", \"Bangalore\",600],[\"TX\", \"NY\",1200],[\"ALB\", \"NY\",800]]\n",
    "g = nx.Graph()\n",
    "for edge in edgelist:\n",
    "    g.add_edge(edge[0],edge[1], weight = edge[2])"
   ]
  },
  {
   "cell_type": "code",
   "execution_count": 3,
   "metadata": {},
   "outputs": [
    {
     "name": "stdout",
     "output_type": "stream",
     "text": [
      "cc0: {'Mannheim', 'Wurzburg', 'Munchen', 'Stuttgart', 'Augsburg', 'Karlsruhe', 'Kassel', 'Erfurt', 'Numberg', 'Frankfurt'}\n",
      "cc1: {'Kolkata', 'Delhi', 'Bangalore', 'Mumbai'}\n",
      "cc2: {'TX', 'ALB', 'NY'}\n"
     ]
    }
   ],
   "source": [
    "# 连通分量\n",
    "for i, x in enumerate(nx.connected_components(g)):\n",
    "    print(\"cc\"+str(i)+\":\",x)"
   ]
  },
  {
   "cell_type": "code",
   "execution_count": 5,
   "metadata": {},
   "outputs": [
    {
     "name": "stdout",
     "output_type": "stream",
     "text": [
      "['Stuttgart', 'Numberg', 'Wurzburg', 'Frankfurt']\n",
      "503\n"
     ]
    }
   ],
   "source": [
    "#最短路径\n",
    "print(nx.shortest_path(g, 'Stuttgart','Frankfurt',weight='weight'))\n",
    "print(nx.shortest_path_length(g, 'Stuttgart','Frankfurt',weight='weight'))\n",
    "# 所有对之间的最短路径\n",
    "for x in nx.all_pairs_dijkstra_path(g,weight='weight'):\n",
    "    print(x)"
   ]
  },
  {
   "cell_type": "code",
   "execution_count": null,
   "metadata": {},
   "outputs": [],
   "source": [
    "# 最小生成树\n",
    "# nx.minimum_spanning_tree(g) returns a instance of type graph\n",
    "nx.draw_networkx(nx.minimum_spanning_tree(g))"
   ]
  },
  {
   "cell_type": "code",
   "execution_count": null,
   "metadata": {},
   "outputs": [],
   "source": [
    "#网页排序（Pagerank）\n",
    "import os\n",
    "print(os.listdir('../input/'))"
   ]
  },
  {
   "cell_type": "code",
   "execution_count": null,
   "metadata": {},
   "outputs": [],
   "source": [
    "fb = nx.read_edgelist('../input/facebook-combined.txt', create_using = nx.Graph(), nodetype = int)\n",
    "print(nx.info(fb))"
   ]
  },
  {
   "cell_type": "code",
   "execution_count": null,
   "metadata": {},
   "outputs": [],
   "source": [
    "# 可视化\n",
    "pos = nx.spring_layout(fb)\n",
    "\n",
    "import warnings\n",
    "import matplotlib.pyplot as plt\n",
    "warnings.filterwarnings('ignore')\n",
    "\n",
    "plt.style.use('fivethirtyeight')\n",
    "plt.rcParams['figure.figsize'] = (20, 15)\n",
    "plt.axis('off')\n",
    "nx.draw_networkx(fb, pos, with_labels = False, node_size = 35)\n",
    "plt.show()"
   ]
  },
  {
   "cell_type": "code",
   "execution_count": null,
   "metadata": {},
   "outputs": [],
   "source": [
    "pagerank = nx.pagerank(fb)\n",
    "# 可以获取排序后 PageRank 值，或者最具有影响力的用户\n",
    "import operator\n",
    "sorted_pagerank = sorted(pagerank.items(), key=operator.itemgetter(1),reverse=True)\n",
    "print(sorted_pagerank[:5])"
   ]
  },
  {
   "cell_type": "code",
   "execution_count": null,
   "metadata": {},
   "outputs": [],
   "source": [
    "# 将含有最具影响力用户的子图进行可视化\n",
    "first_degree_connected_nodes = list(fb.neighbors(3437))\n",
    "second_degree_connected_nodes = []\n",
    "for x in first_degree_connected_nodes:\n",
    "    second_degree_connected_nodes+=list(fb.neighbors(x))\n",
    "second_degree_connected_nodes.remove(3437)\n",
    "second_degree_connected_nodes = list(set(second_degree_connected_nodes))\n",
    "subgraph_3437 = nx.subgraph(fb,first_degree_connected_nodes+second_degree_connected_nodes)\n",
    "pos = nx.spring_layout(subgraph_3437)\n",
    "node_color = ['yellow' if v == 3437 else 'red' for v in subgraph_3437]\n",
    "node_size =  [1000 if v == 3437 else 35 for v in subgraph_3437]\n",
    "plt.style.use('fivethirtyeight')\n",
    "plt.rcParams['figure.figsize'] = (20, 15)\n",
    "plt.axis('off')\n",
    "nx.draw_networkx(subgraph_3437, pos, with_labels = False, node_color=node_color,node_size=node_size )\n",
    "plt.show()"
   ]
  },
  {
   "cell_type": "code",
   "execution_count": null,
   "metadata": {},
   "outputs": [],
   "source": [
    "# 中心性度量\n",
    "pos = nx.spring_layout(subgraph_3437)\n",
    "betweennessCentrality = nx.betweenness_centrality(subgraph_3437,normalized=True, endpoints=True)"
   ]
  },
  {
   "cell_type": "code",
   "execution_count": null,
   "metadata": {},
   "outputs": [],
   "source": [
    "node_size =  [v * 10000 for v in betweennessCentrality.values()]\n",
    "plt.figure(figsize=(20,20))\n",
    "nx.draw_networkx(subgraph_3437, pos=pos, with_labels=False,\n",
    "                 node_size=node_size )\n",
    "plt.axis('off')"
   ]
  }
 ],
 "metadata": {
  "kernelspec": {
   "display_name": "Python 3",
   "language": "python",
   "name": "python3"
  },
  "language_info": {
   "codemirror_mode": {
    "name": "ipython",
    "version": 3
   },
   "file_extension": ".py",
   "mimetype": "text/x-python",
   "name": "python",
   "nbconvert_exporter": "python",
   "pygments_lexer": "ipython3",
   "version": "3.7.1"
  },
  "toc": {
   "base_numbering": 1,
   "nav_menu": {},
   "number_sections": true,
   "sideBar": true,
   "skip_h1_title": false,
   "title_cell": "Table of Contents",
   "title_sidebar": "Contents",
   "toc_cell": false,
   "toc_position": {},
   "toc_section_display": true,
   "toc_window_display": false
  }
 },
 "nbformat": 4,
 "nbformat_minor": 2
}
