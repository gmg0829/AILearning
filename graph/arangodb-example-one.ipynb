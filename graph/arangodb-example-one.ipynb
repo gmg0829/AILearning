{
 "cells": [
  {
   "cell_type": "code",
   "execution_count": 2,
   "metadata": {},
   "outputs": [],
   "source": [
    "from arango import ArangoClient\n",
    "# pip install python-arango\n",
    "# Initialize the ArangoDB client.\n",
    "client = ArangoClient(protocol='http', host='192.168.254.134', port=8529)\n",
    "# 参考 https://python-driver-for-arangodb.readthedocs.io/en/master/aql.html\n",
    "# Connect to \"test\" database as root user.\n",
    "db = client.db('mydb', username='root', password='root')\n",
    "cities = db.create_collection('cities')"
   ]
  },
  {
   "cell_type": "code",
   "execution_count": 3,
   "metadata": {},
   "outputs": [
    {
     "data": {
      "text/plain": [
       "[{'fields': ['_key'],\n",
       "  'id': '0',\n",
       "  'sparse': False,\n",
       "  'type': 'primary',\n",
       "  'unique': True,\n",
       "  'selectivity': 1}]"
      ]
     },
     "execution_count": 3,
     "metadata": {},
     "output_type": "execute_result"
    }
   ],
   "source": [
    "cities.indexes()\n",
    "# Add a new hash index on document fields \"continent\" and \"country\".\n",
    "index = cities.add_hash_index(fields=['continent', 'country'], unique=True)\n",
    "\n",
    "# Add new fulltext indexes on fields \"continent\" and \"country\".\n",
    "index = cities.add_fulltext_index(fields=['continent'])\n",
    "index = cities.add_fulltext_index(fields=['country'])\n",
    "\n",
    "# Add a new skiplist index on field 'population'.\n",
    "index = cities.add_skiplist_index(fields=['population'], sparse=False)\n",
    "\n",
    "# Add a new geo-spatial index on field 'coordinates'.\n",
    "index = cities.add_geo_index(fields=['coordinates'])\n",
    "\n",
    "# Add a new persistent index on fields 'currency'.\n",
    "index = cities.add_persistent_index(fields=['currency'], sparse=True)\n",
    "\n",
    "# Delete the last index from the collection.\n",
    "cities.delete_index(index['id'])"
   ]
  },
  {
   "cell_type": "code",
   "execution_count": 4,
   "metadata": {},
   "outputs": [
    {
     "data": {
      "text/plain": [
       "[{'_id': 'cities/Abby', '_key': 'Abby', '_rev': '_ZFWhh2S--_'},\n",
       " {'_id': 'cities/John', '_key': 'John', '_rev': '_ZFWhh2W--_'},\n",
       " {'_id': 'cities/Mary', '_key': 'Mary', '_rev': '_ZFWhh2W--B'}]"
      ]
     },
     "execution_count": 4,
     "metadata": {},
     "output_type": "execute_result"
    }
   ],
   "source": [
    "db.collection('cities').insert_many([\n",
    "    {'_key': 'Abby', 'age': 22},\n",
    "    {'_key': 'John', 'age': 18},\n",
    "    {'_key': 'Mary', 'age': 21}\n",
    "])"
   ]
  },
  {
   "cell_type": "code",
   "execution_count": 6,
   "metadata": {},
   "outputs": [
    {
     "data": {
      "text/plain": [
       "{'parsed': True,\n",
       " 'collections': ['cities'],\n",
       " 'ast': [{'type': 'root',\n",
       "   'subNodes': [{'type': 'for',\n",
       "     'subNodes': [{'type': 'variable', 'name': 'doc', 'id': 0},\n",
       "      {'type': 'collection', 'name': 'cities'}]},\n",
       "    {'type': 'return',\n",
       "     'subNodes': [{'type': 'reference', 'name': 'doc', 'id': 0}]}]}],\n",
       " 'bind_vars': []}"
      ]
     },
     "execution_count": 6,
     "metadata": {},
     "output_type": "execute_result"
    }
   ],
   "source": [
    "# Get the AQL API wrapper.\n",
    "aql = db.aql\n",
    "\n",
    "# Retrieve the execution plan without running the query.\n",
    "aql.explain('FOR doc IN cities RETURN doc')\n",
    "\n",
    "# Validate the query without executing it.\n",
    "aql.validate('FOR doc IN cities RETURN doc')"
   ]
  },
  {
   "cell_type": "code",
   "execution_count": 10,
   "metadata": {},
   "outputs": [
    {
     "data": {
      "text/plain": [
       "['John']"
      ]
     },
     "execution_count": 10,
     "metadata": {},
     "output_type": "execute_result"
    }
   ],
   "source": [
    "# Execute the query\n",
    "cursor = db.aql.execute(\n",
    "  'FOR doc IN cities FILTER doc.age < @value RETURN doc',\n",
    "  bind_vars={'value': 19}\n",
    ")\n",
    "# Iterate through the result cursor\n",
    "student_keys = [doc['_key'] for doc in cursor]\n",
    "\n",
    "student_keys"
   ]
  }
 ],
 "metadata": {
  "kernelspec": {
   "display_name": "Python 3",
   "language": "python",
   "name": "python3"
  },
  "language_info": {
   "codemirror_mode": {
    "name": "ipython",
    "version": 3
   },
   "file_extension": ".py",
   "mimetype": "text/x-python",
   "name": "python",
   "nbconvert_exporter": "python",
   "pygments_lexer": "ipython3",
   "version": "3.7.3"
  },
  "toc": {
   "base_numbering": 1,
   "nav_menu": {},
   "number_sections": true,
   "sideBar": true,
   "skip_h1_title": false,
   "title_cell": "Table of Contents",
   "title_sidebar": "Contents",
   "toc_cell": false,
   "toc_position": {},
   "toc_section_display": true,
   "toc_window_display": false
  }
 },
 "nbformat": 4,
 "nbformat_minor": 2
}
