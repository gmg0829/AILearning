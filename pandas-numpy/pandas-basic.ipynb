{
 "cells": [
  {
   "cell_type": "code",
   "execution_count": 1,
   "metadata": {},
   "outputs": [
    {
     "name": "stdout",
     "output_type": "stream",
     "text": [
      "0.25.1\n"
     ]
    }
   ],
   "source": [
    "import numpy as np   # pandas和numpy常常结合在一起使用，导入numpy库\n",
    "import pandas as pd  # 导入pandas库\n",
    "\n",
    "# print(pd.__version__) # 打印pandas版本信息"
   ]
  },
  {
   "cell_type": "code",
   "execution_count": 3,
   "metadata": {},
   "outputs": [],
   "source": [
    "mylist = list('abcedfghijklmnopqrstuvwxyz')   # 列表\n",
    "myarr = np.arange(26)\t                      # 数组\n",
    "mydict = dict(zip(mylist, myarr))             # 字典"
   ]
  },
  {
   "cell_type": "code",
   "execution_count": 8,
   "metadata": {},
   "outputs": [
    {
     "name": "stdout",
     "output_type": "stream",
     "text": [
      "a    0\n",
      "b    1\n",
      "c    2\n",
      "e    3\n",
      "d    4\n",
      "dtype: int64\n"
     ]
    }
   ],
   "source": [
    "# mylist\n",
    "# myarr\n",
    "# mydict\n",
    "ser1 = pd.Series(mylist)\n",
    "ser2 = pd.Series(myarr)\n",
    "ser3 = pd.Series(mydict)\n",
    "# print(ser3.head())  "
   ]
  },
  {
   "cell_type": "code",
   "execution_count": null,
   "metadata": {},
   "outputs": [],
   "source": [
    "# 构建series1\n",
    "ser1 = pd.Series(list('abcedfghijklmnopqrstuvwxyz')) \n",
    "# 构建series2\n",
    "ser2 = pd.Series(np.arange(26))\n",
    "\n",
    "# 方法1，axis=1表示列拼接，0表示行拼接\n",
    "df = pd.concat([ser1, ser2], axis=1)\n",
    "\n",
    "# 与方法1相比，方法2设置了列名\n",
    "df = pd.DataFrame({'col1': ser1, 'col2': ser2})\n",
    "print(df.head())"
   ]
  },
  {
   "cell_type": "code",
   "execution_count": null,
   "metadata": {},
   "outputs": [],
   "source": [
    "ser1 = pd.Series([1, 2, 3, 4, 5])\n",
    "ser2 = pd.Series([4, 5, 6, 7, 8])\n",
    "\n",
    "# 返回ser1不包含ser2的布尔型series\n",
    "ser3=~ser1.isin(ser2)\n",
    "# 获取ser不包含ser2的元素\n",
    "ser1[ser3]"
   ]
  },
  {
   "cell_type": "code",
   "execution_count": null,
   "metadata": {},
   "outputs": [],
   "source": [
    "ser1 = pd.Series([1, 2, 3, 4, 5])\n",
    "ser2 = pd.Series([4, 5, 6, 7, 8])\n",
    "\n",
    "# 求ser1和ser2的并集\n",
    "ser_u = pd.Series(np.union1d(ser1, ser2))\n",
    "# 求ser1和ser2的交集\n",
    "ser_i = pd.Series(np.intersect1d(ser1, ser2))\n",
    "# ser_i在ser_u的补集就是ser1和ser2不相同的项\n",
    "ser_u[~ser_u.isin(ser_i)]"
   ]
  },
  {
   "cell_type": "code",
   "execution_count": 9,
   "metadata": {},
   "outputs": [
    {
     "data": {
      "text/plain": [
       "0      1.251173\n",
       "1     11.713402\n",
       "2     15.765179\n",
       "3      8.737820\n",
       "4     14.906604\n",
       "5     12.571094\n",
       "6     11.105898\n",
       "7      4.649783\n",
       "8      9.052521\n",
       "9     11.275007\n",
       "10     7.709865\n",
       "11    12.175817\n",
       "12     7.082025\n",
       "13    14.084235\n",
       "14    13.363604\n",
       "15     9.477944\n",
       "16     7.343598\n",
       "17    15.148663\n",
       "18     7.809322\n",
       "19     4.408409\n",
       "20    18.094908\n",
       "21    17.708026\n",
       "22     8.740604\n",
       "23     5.787821\n",
       "24    10.922593\n",
       "dtype: float64"
      ]
     },
     "execution_count": 9,
     "metadata": {},
     "output_type": "execute_result"
    }
   ],
   "source": [
    "# 设置随机数种子\n",
    "state = np.random.RandomState(100)\n",
    "# 从均值为10 方差差为5的正态分布随机抽取25个点构成series\n",
    "ser = pd.Series(state.normal(10, 5, 25))\n",
    "# 求ser的四分位数\n",
    "np.percentile(ser, q=[0, 25, 50, 75, 100])"
   ]
  },
  {
   "cell_type": "code",
   "execution_count": null,
   "metadata": {},
   "outputs": [],
   "source": [
    "# 欧式距离\n",
    "p = pd.Series([1, 2, 3, 4, 5, 6, 7, 8, 9, 10])\n",
    "q = pd.Series([10, 9, 8, 7, 6, 5, 4, 3, 2, 1])\n",
    "\n",
    "# 方法1\n",
    "sum((p - q)**2)**.5\n",
    "\n",
    "# 方法2\n",
    "np.linalg.norm(p-q)"
   ]
  },
  {
   "cell_type": "code",
   "execution_count": 10,
   "metadata": {},
   "outputs": [
    {
     "data": {
      "text/plain": [
       "0   2010-01-01 00:00:00\n",
       "1   2011-02-02 00:00:00\n",
       "2   2012-03-03 00:00:00\n",
       "3   2013-04-04 00:00:00\n",
       "4   2014-05-05 00:00:00\n",
       "5   2015-06-06 12:20:00\n",
       "dtype: datetime64[ns]"
      ]
     },
     "execution_count": 10,
     "metadata": {},
     "output_type": "execute_result"
    }
   ],
   "source": [
    "# 日期字符串转换为timeseries\n",
    "ser = pd.Series(['01 Jan 2010', '02-02-2011', '20120303', '2013/04/04', '2014-05-05', '2015-06-06T12:20'])\n",
    "\n",
    "pd.to_datetime(ser)"
   ]
  },
  {
   "cell_type": "code",
   "execution_count": null,
   "metadata": {},
   "outputs": [],
   "source": [
    "# 如何使series中每个元素的首字母为大写\n",
    "ser = pd.Series(['how', 'to', 'kick', 'ass?'])\n",
    "\n",
    "# 方法 1\n",
    "ser.map(lambda x: x.title())\n",
    "\n",
    "# 方法 2 ，字符串相加\n",
    "ser.map(lambda x: x[0].upper() + x[1:])"
   ]
  },
  {
   "cell_type": "code",
   "execution_count": null,
   "metadata": {},
   "outputs": [],
   "source": [
    "# 前两行的值\n",
    "df = pd.read_csv('https://raw.githubusercontent.com/selva86/datasets/master/Cars93_miss.csv',nrows=2,usecols=['Model','Length'])\n",
    "df"
   ]
  },
  {
   "cell_type": "code",
   "execution_count": null,
   "metadata": {},
   "outputs": [],
   "source": [
    "# 使用converters参数，改变medv列的值\n",
    "df = pd.read_csv('https://raw.githubusercontent.com/selva86/datasets/master/BostonHousing.csv', \n",
    "                 converters={'medv': lambda x: 'High' if float(x) > 25 else 'Low'})\n",
    "print(df.head())"
   ]
  },
  {
   "cell_type": "code",
   "execution_count": 28,
   "metadata": {},
   "outputs": [],
   "source": [
    "# df = pd.read_csv('https://raw.githubusercontent.com/selva86/datasets/master/Cars93_miss.csv')\n",
    "\n",
    "#  打印dataframe的行和列\n",
    "# print(df.shape)\n",
    "\n",
    "# 打印dataframe每列元素的类型显示前5行\n",
    "# print(df.dtypes.head())\n",
    "\n",
    "# 统计各类型的数目,方法1\n",
    "# print(df.get_dtype_counts())\n",
    "# 统计各类型的数目,方法2\n",
    "# print(df.dtypes.value_counts())\n",
    "\n",
    "# 描述每列的统计信息，如std，四分位数等\n",
    "# df_stats = df.describe()\n",
    "# df_stats\n",
    "# dataframe转化数组\n",
    "# df_arr = df.values\n",
    "# 数组转化为列表\n",
    "# df_list = df.values.tolist()"
   ]
  },
  {
   "cell_type": "code",
   "execution_count": 21,
   "metadata": {},
   "outputs": [],
   "source": [
    "\n",
    "df = pd.read_csv('https://raw.githubusercontent.com/selva86/datasets/master/Cars93_miss.csv')\n",
    "\n",
    "# 获取每列的缺失值个数\n",
    "n_missings_each_col = df.apply(lambda x: x.isnull().sum())\n",
    "print(n_missings_each_col.head())"
   ]
  },
  {
   "cell_type": "code",
   "execution_count": 23,
   "metadata": {},
   "outputs": [],
   "source": [
    "df = pd.read_csv('https://raw.githubusercontent.com/selva86/datasets/master/Cars93_miss.csv',nrows=10)\n",
    "print(df[['Min.Price','Max.Price']].head())\n",
    "# 平均值替换缺失值\n",
    "df_out = df[['Min.Price', 'Max.Price']] = df[['Min.Price', 'Max.Price']].apply(lambda x: x.fillna(x.mean()))\n",
    "print(df_out.head())"
   ]
  },
  {
   "cell_type": "code",
   "execution_count": null,
   "metadata": {},
   "outputs": [],
   "source": [
    "# 如何重命名dataframe的特定列\n",
    "df1 = pd.DataFrame(data=np.array([[18,50],[19,51],[20,55]]),index=['man1','man2','man3'],columns=['age','weight'])\n",
    "print(df1)\n",
    "# 修改列名\n",
    "print(\"\\nchange columns :\\n\")\n",
    "#方法1\n",
    "df1.rename(columns={'weight':'stress'})\n",
    "#方法2\n",
    "df1.columns.values[1] = 'stress'\n",
    "print(df1)"
   ]
  },
  {
   "cell_type": "code",
   "execution_count": 31,
   "metadata": {},
   "outputs": [],
   "source": [
    "# df = pd.read_csv('https://raw.githubusercontent.com/selva86/datasets/master/Cars93_miss.csv')\n",
    "# df[1:4]\n",
    "# df[['a','c']]    \n",
    "df.loc[1:4,['a','c']]\n",
    "df.loc[[1,3,5],['a','c']]\n",
    "df.iloc[1:4,[0,2]]\n",
    "df.iloc[[1,3,5],[0,2]]"
   ]
  },
  {
   "cell_type": "code",
   "execution_count": null,
   "metadata": {},
   "outputs": [],
   "source": [
    "df.drop(['name'],axis = 1,inplace = False) #删除name列。\n",
    "df.drop([1,3],axis = 0,inplace = False)#删除index值为1和3的两行，"
   ]
  },
  {
   "cell_type": "code",
   "execution_count": null,
   "metadata": {},
   "outputs": [],
   "source": [
    "df = pd.DataFrame(np.random.randint(1,100, 80).reshape(8, -1))\n",
    "\n",
    "# 正态分布归一化\n",
    "out1 = df.apply(lambda x: ((x - x.mean())/x.std()).round(2))\n",
    "print('Solution Q1\\n',out1)\n",
    "\n",
    "# 线性归一化\n",
    "out2 = df.apply(lambda x: ((x.max() - x)/(x.max() - x.min())).round(2))\n",
    "print('Solution Q2\\n', out2)"
   ]
  },
  {
   "cell_type": "code",
   "execution_count": null,
   "metadata": {},
   "outputs": [],
   "source": [
    "df = pd.DataFrame({'col1': ['apple', 'banana', 'orange'] * 2,\n",
    "                   'col2': np.random.randint(0,15,6),\n",
    "                   'col3': np.random.randint(0, 15, 6)})\n",
    "print(df)\n",
    "# 按列col1分组后的平均值\n",
    "df_grouped_mean = df.groupby(['col1']).mean()\n",
    "print(df_grouped_mean)\n",
    "# 按列col1分组后的标准差\n",
    "df_grouped_std = df.groupby(['col1']).mean()\n",
    "print(df_grouped_std)"
   ]
  },
  {
   "cell_type": "code",
   "execution_count": null,
   "metadata": {},
   "outputs": [],
   "source": [
    "import pandas as pd\n",
    "df1 = pd.DataFrame({ 'a':[0,0,0], 'b': [1,1,1]})\n",
    "df2 = df1.copy()\n",
    "df2['a'] = df2['a'] + 1\n",
    "df1.head()"
   ]
  },
  {
   "cell_type": "code",
   "execution_count": null,
   "metadata": {},
   "outputs": [],
   "source": []
  }
 ],
 "metadata": {
  "kernelspec": {
   "display_name": "Python 3",
   "language": "python",
   "name": "python3"
  },
  "language_info": {
   "codemirror_mode": {
    "name": "ipython",
    "version": 3
   },
   "file_extension": ".py",
   "mimetype": "text/x-python",
   "name": "python",
   "nbconvert_exporter": "python",
   "pygments_lexer": "ipython3",
   "version": "3.7.1"
  },
  "toc": {
   "base_numbering": 1,
   "nav_menu": {},
   "number_sections": true,
   "sideBar": true,
   "skip_h1_title": false,
   "title_cell": "Table of Contents",
   "title_sidebar": "Contents",
   "toc_cell": false,
   "toc_position": {},
   "toc_section_display": true,
   "toc_window_display": false
  }
 },
 "nbformat": 4,
 "nbformat_minor": 2
}
