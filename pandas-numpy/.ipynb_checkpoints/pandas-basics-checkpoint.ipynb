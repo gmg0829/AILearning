{
 "cells": [
  {
   "cell_type": "code",
   "execution_count": null,
   "metadata": {},
   "outputs": [],
   "source": [
    "# object\n",
    "# int64\n",
    "# float64\n",
    "# datetime64\n",
    "# bool"
   ]
  },
  {
   "cell_type": "code",
   "execution_count": 34,
   "metadata": {},
   "outputs": [
    {
     "data": {
      "text/plain": [
       "Customer Number    5\n",
       "Customer Name      5\n",
       "2016               5\n",
       "2017               5\n",
       "Percent Growth     5\n",
       "Jan Units          5\n",
       "Month              5\n",
       "Day                5\n",
       "Year               5\n",
       "Active             5\n",
       "dtype: int64"
      ]
     },
     "execution_count": 34,
     "metadata": {},
     "output_type": "execute_result"
    }
   ],
   "source": [
    "import numpy as np\n",
    "import pandas as pd\n",
    "df = pd.read_csv(\"sales_data_types.csv\")\n",
    "df.count()"
   ]
  },
  {
   "cell_type": "code",
   "execution_count": 41,
   "metadata": {},
   "outputs": [
    {
     "data": {
      "text/plain": [
       "Customer Number            651029\n",
       "Customer Name      Smith Plumbing\n",
       "2016                  $920,000.00\n",
       "2017                    $62500.00\n",
       "Percent Growth              4.00%\n",
       "Jan Units                  Closed\n",
       "Month                          10\n",
       "Day                            29\n",
       "Year                         2016\n",
       "Active                          Y\n",
       "dtype: object"
      ]
     },
     "execution_count": 41,
     "metadata": {},
     "output_type": "execute_result"
    }
   ],
   "source": [
    "d1.count()          #非空元素计算\n",
    "d1.min()            #最小值\n",
    "d1.max()            #最大值\n",
    "d1.idxmin()         #最小值的位置，类似于R中的which.min函数\n",
    "d1.idxmax()         #最大值的位置，类似于R中的which.max函数\n",
    "d1.quantile(0.1)    #10%分位数\n",
    "d1.sum()            #求和\n",
    "d1.mean()           #均值\n",
    "d1.median()         #中位数\n",
    "d1.mode()           #众数\n",
    "d1.var()            #方差\n",
    "d1.std()            #标准差\n",
    "d1.mad()            #平均绝对偏差\n",
    "d1.skew()           #偏度\n",
    "d1.kurt()           #峰度\n",
    "d1.describe()       #一次性输出多个描述性统计指标"
   ]
  },
  {
   "cell_type": "code",
   "execution_count": 12,
   "metadata": {},
   "outputs": [
    {
     "data": {
      "text/plain": [
       "Customer Number     int32\n",
       "Customer Name      object\n",
       "2016               object\n",
       "2017               object\n",
       "Percent Growth     object\n",
       "Jan Units          object\n",
       "Month               int64\n",
       "Day                 int64\n",
       "Year                int64\n",
       "Active             object\n",
       "dtype: object"
      ]
     },
     "execution_count": 12,
     "metadata": {},
     "output_type": "execute_result"
    }
   ],
   "source": [
    "df[\"Customer Number\"] = df['Customer Number'].astype('int')\n",
    "df.dtypes"
   ]
  },
  {
   "cell_type": "code",
   "execution_count": 14,
   "metadata": {},
   "outputs": [],
   "source": [
    "def convert_currency(val):\n",
    "    new_val = val.replace(',','').replace('$', '')\n",
    "    return float(new_val)"
   ]
  },
  {
   "cell_type": "code",
   "execution_count": 15,
   "metadata": {},
   "outputs": [
    {
     "data": {
      "text/plain": [
       "0    125000.0\n",
       "1    920000.0\n",
       "2     50000.0\n",
       "3    350000.0\n",
       "4     15000.0\n",
       "Name: 2016, dtype: float64"
      ]
     },
     "execution_count": 15,
     "metadata": {},
     "output_type": "execute_result"
    }
   ],
   "source": [
    "df['2016'].apply(convert_currency)"
   ]
  },
  {
   "cell_type": "code",
   "execution_count": null,
   "metadata": {},
   "outputs": [],
   "source": [
    "df['2016'].apply(lambda x: x.replace('$', '').replace(',', '')).astype('float')"
   ]
  },
  {
   "cell_type": "code",
   "execution_count": 16,
   "metadata": {},
   "outputs": [
    {
     "data": {
      "text/plain": [
       "0    0.30\n",
       "1    0.10\n",
       "2    0.25\n",
       "3    0.04\n",
       "4   -0.15\n",
       "Name: Percent Growth, dtype: float64"
      ]
     },
     "execution_count": 16,
     "metadata": {},
     "output_type": "execute_result"
    }
   ],
   "source": [
    "df['Percent Growth'].apply(lambda x: x.replace('%', '')).astype('float') / 100"
   ]
  },
  {
   "cell_type": "code",
   "execution_count": 28,
   "metadata": {},
   "outputs": [
    {
     "data": {
      "text/html": [
       "<div>\n",
       "<style scoped>\n",
       "    .dataframe tbody tr th:only-of-type {\n",
       "        vertical-align: middle;\n",
       "    }\n",
       "\n",
       "    .dataframe tbody tr th {\n",
       "        vertical-align: top;\n",
       "    }\n",
       "\n",
       "    .dataframe thead th {\n",
       "        text-align: right;\n",
       "    }\n",
       "</style>\n",
       "<table border=\"1\" class=\"dataframe\">\n",
       "  <thead>\n",
       "    <tr style=\"text-align: right;\">\n",
       "      <th></th>\n",
       "      <th>Customer Number</th>\n",
       "      <th>Customer Name</th>\n",
       "      <th>2016</th>\n",
       "      <th>2017</th>\n",
       "      <th>Percent Growth</th>\n",
       "      <th>Jan Units</th>\n",
       "      <th>Month</th>\n",
       "      <th>Day</th>\n",
       "      <th>Year</th>\n",
       "      <th>Active</th>\n",
       "    </tr>\n",
       "  </thead>\n",
       "  <tbody>\n",
       "    <tr>\n",
       "      <td>0</td>\n",
       "      <td>10002.0</td>\n",
       "      <td>Quest Industries</td>\n",
       "      <td>$125,000.00</td>\n",
       "      <td>$162500.00</td>\n",
       "      <td>30.00%</td>\n",
       "      <td>500</td>\n",
       "      <td>1</td>\n",
       "      <td>10</td>\n",
       "      <td>2015</td>\n",
       "      <td>False</td>\n",
       "    </tr>\n",
       "    <tr>\n",
       "      <td>1</td>\n",
       "      <td>552278.0</td>\n",
       "      <td>Smith Plumbing</td>\n",
       "      <td>$920,000.00</td>\n",
       "      <td>$101,2000.00</td>\n",
       "      <td>10.00%</td>\n",
       "      <td>700</td>\n",
       "      <td>6</td>\n",
       "      <td>15</td>\n",
       "      <td>2014</td>\n",
       "      <td>False</td>\n",
       "    </tr>\n",
       "    <tr>\n",
       "      <td>2</td>\n",
       "      <td>23477.0</td>\n",
       "      <td>ACME Industrial</td>\n",
       "      <td>$50,000.00</td>\n",
       "      <td>$62500.00</td>\n",
       "      <td>25.00%</td>\n",
       "      <td>125</td>\n",
       "      <td>3</td>\n",
       "      <td>29</td>\n",
       "      <td>2016</td>\n",
       "      <td>False</td>\n",
       "    </tr>\n",
       "    <tr>\n",
       "      <td>3</td>\n",
       "      <td>24900.0</td>\n",
       "      <td>Brekke LTD</td>\n",
       "      <td>$350,000.00</td>\n",
       "      <td>$490000.00</td>\n",
       "      <td>4.00%</td>\n",
       "      <td>75</td>\n",
       "      <td>10</td>\n",
       "      <td>27</td>\n",
       "      <td>2015</td>\n",
       "      <td>False</td>\n",
       "    </tr>\n",
       "    <tr>\n",
       "      <td>4</td>\n",
       "      <td>651029.0</td>\n",
       "      <td>Harbor Co</td>\n",
       "      <td>$15,000.00</td>\n",
       "      <td>$12750.00</td>\n",
       "      <td>-15.00%</td>\n",
       "      <td>Closed</td>\n",
       "      <td>2</td>\n",
       "      <td>2</td>\n",
       "      <td>2014</td>\n",
       "      <td>True</td>\n",
       "    </tr>\n",
       "  </tbody>\n",
       "</table>\n",
       "</div>"
      ],
      "text/plain": [
       "   Customer Number     Customer Name         2016          2017  \\\n",
       "0          10002.0  Quest Industries  $125,000.00    $162500.00   \n",
       "1         552278.0    Smith Plumbing  $920,000.00  $101,2000.00   \n",
       "2          23477.0   ACME Industrial   $50,000.00     $62500.00   \n",
       "3          24900.0        Brekke LTD  $350,000.00    $490000.00   \n",
       "4         651029.0         Harbor Co   $15,000.00     $12750.00   \n",
       "\n",
       "  Percent Growth Jan Units  Month  Day  Year  Active  \n",
       "0         30.00%       500      1   10  2015   False  \n",
       "1         10.00%       700      6   15  2014   False  \n",
       "2         25.00%       125      3   29  2016   False  \n",
       "3          4.00%        75     10   27  2015   False  \n",
       "4        -15.00%    Closed      2    2  2014    True  "
      ]
     },
     "execution_count": 28,
     "metadata": {},
     "output_type": "execute_result"
    }
   ],
   "source": [
    "df[\"Active\"]= np.where(df[\"Active\"] == \"Y\", False, True)\n",
    "df"
   ]
  },
  {
   "cell_type": "code",
   "execution_count": 29,
   "metadata": {},
   "outputs": [
    {
     "data": {
      "text/plain": [
       "0    500.0\n",
       "1    700.0\n",
       "2    125.0\n",
       "3     75.0\n",
       "4      NaN\n",
       "Name: Jan Units, dtype: float64"
      ]
     },
     "execution_count": 29,
     "metadata": {},
     "output_type": "execute_result"
    }
   ],
   "source": [
    "pd.to_numeric(df['Jan Units'], errors='coerce')"
   ]
  },
  {
   "cell_type": "code",
   "execution_count": 30,
   "metadata": {},
   "outputs": [
    {
     "data": {
      "text/plain": [
       "0    500.0\n",
       "1    700.0\n",
       "2    125.0\n",
       "3     75.0\n",
       "4      0.0\n",
       "Name: Jan Units, dtype: float64"
      ]
     },
     "execution_count": 30,
     "metadata": {},
     "output_type": "execute_result"
    }
   ],
   "source": [
    "pd.to_numeric(df['Jan Units'], errors='coerce').fillna(0)"
   ]
  },
  {
   "cell_type": "code",
   "execution_count": 31,
   "metadata": {},
   "outputs": [
    {
     "data": {
      "text/plain": [
       "0   2015-01-10\n",
       "1   2014-06-15\n",
       "2   2016-03-29\n",
       "3   2015-10-27\n",
       "4   2014-02-02\n",
       "dtype: datetime64[ns]"
      ]
     },
     "execution_count": 31,
     "metadata": {},
     "output_type": "execute_result"
    }
   ],
   "source": [
    "pd.to_datetime(df[['Month', 'Day', 'Year']])"
   ]
  },
  {
   "cell_type": "code",
   "execution_count": null,
   "metadata": {},
   "outputs": [],
   "source": [
    "df[\"Start_Date\"] = pd.to_datetime(df[['Month', 'Day', 'Year']])\n",
    "df[\"Jan Units\"] = pd.to_numeric(df['Jan Units'], errors='coerce').fillna(0)"
   ]
  },
  {
   "cell_type": "code",
   "execution_count": null,
   "metadata": {},
   "outputs": [],
   "source": [
    "def convert_percent(val):\n",
    "    new_val = val.replace('%', '')\n",
    "    return float(new_val) / 100\n",
    "\n",
    "df['Percent Growth'].apply(convert_percent)"
   ]
  },
  {
   "cell_type": "code",
   "execution_count": null,
   "metadata": {},
   "outputs": [],
   "source": [
    "df_2 = pd.read_csv(\"sales_data_types.csv\",\n",
    "                   dtype={'Customer Number': 'int'},\n",
    "                   converters={'2016': convert_currency,\n",
    "                               '2017': convert_currency,\n",
    "                               'Percent Growth': convert_percent,\n",
    "                               'Jan Units': lambda x: pd.to_numeric(x, errors='coerce'),\n",
    "                               'Active': lambda x: np.where(x == \"Y\", True, False)\n",
    "                              })\n",
    "\n",
    "df_2.dtypes"
   ]
  },
  {
   "cell_type": "code",
   "execution_count": 43,
   "metadata": {},
   "outputs": [
    {
     "data": {
      "text/html": [
       "<div>\n",
       "<style scoped>\n",
       "    .dataframe tbody tr th:only-of-type {\n",
       "        vertical-align: middle;\n",
       "    }\n",
       "\n",
       "    .dataframe tbody tr th {\n",
       "        vertical-align: top;\n",
       "    }\n",
       "\n",
       "    .dataframe thead th {\n",
       "        text-align: right;\n",
       "    }\n",
       "</style>\n",
       "<table border=\"1\" class=\"dataframe\">\n",
       "  <thead>\n",
       "    <tr style=\"text-align: right;\">\n",
       "      <th></th>\n",
       "      <th>Customer Number</th>\n",
       "      <th>Customer Name</th>\n",
       "      <th>2017</th>\n",
       "      <th>Percent Growth</th>\n",
       "      <th>Jan Units</th>\n",
       "      <th>Month</th>\n",
       "      <th>Day</th>\n",
       "      <th>Year</th>\n",
       "      <th>Active</th>\n",
       "    </tr>\n",
       "  </thead>\n",
       "  <tbody>\n",
       "    <tr>\n",
       "      <td>0</td>\n",
       "      <td>10002.0</td>\n",
       "      <td>Quest Industries</td>\n",
       "      <td>$162500.00</td>\n",
       "      <td>30.00%</td>\n",
       "      <td>500</td>\n",
       "      <td>1</td>\n",
       "      <td>10</td>\n",
       "      <td>2015</td>\n",
       "      <td>Y</td>\n",
       "    </tr>\n",
       "    <tr>\n",
       "      <td>1</td>\n",
       "      <td>552278.0</td>\n",
       "      <td>Smith Plumbing</td>\n",
       "      <td>$101,2000.00</td>\n",
       "      <td>10.00%</td>\n",
       "      <td>700</td>\n",
       "      <td>6</td>\n",
       "      <td>15</td>\n",
       "      <td>2014</td>\n",
       "      <td>Y</td>\n",
       "    </tr>\n",
       "    <tr>\n",
       "      <td>2</td>\n",
       "      <td>23477.0</td>\n",
       "      <td>ACME Industrial</td>\n",
       "      <td>$62500.00</td>\n",
       "      <td>25.00%</td>\n",
       "      <td>125</td>\n",
       "      <td>3</td>\n",
       "      <td>29</td>\n",
       "      <td>2016</td>\n",
       "      <td>Y</td>\n",
       "    </tr>\n",
       "    <tr>\n",
       "      <td>3</td>\n",
       "      <td>24900.0</td>\n",
       "      <td>Brekke LTD</td>\n",
       "      <td>$490000.00</td>\n",
       "      <td>4.00%</td>\n",
       "      <td>75</td>\n",
       "      <td>10</td>\n",
       "      <td>27</td>\n",
       "      <td>2015</td>\n",
       "      <td>Y</td>\n",
       "    </tr>\n",
       "    <tr>\n",
       "      <td>4</td>\n",
       "      <td>651029.0</td>\n",
       "      <td>Harbor Co</td>\n",
       "      <td>$12750.00</td>\n",
       "      <td>-15.00%</td>\n",
       "      <td>Closed</td>\n",
       "      <td>2</td>\n",
       "      <td>2</td>\n",
       "      <td>2014</td>\n",
       "      <td>N</td>\n",
       "    </tr>\n",
       "  </tbody>\n",
       "</table>\n",
       "</div>"
      ],
      "text/plain": [
       "   Customer Number     Customer Name          2017 Percent Growth Jan Units  \\\n",
       "0          10002.0  Quest Industries    $162500.00         30.00%       500   \n",
       "1         552278.0    Smith Plumbing  $101,2000.00         10.00%       700   \n",
       "2          23477.0   ACME Industrial     $62500.00         25.00%       125   \n",
       "3          24900.0        Brekke LTD    $490000.00          4.00%        75   \n",
       "4         651029.0         Harbor Co     $12750.00        -15.00%    Closed   \n",
       "\n",
       "   Month  Day  Year Active  \n",
       "0      1   10  2015      Y  \n",
       "1      6   15  2014      Y  \n",
       "2      3   29  2016      Y  \n",
       "3     10   27  2015      Y  \n",
       "4      2    2  2014      N  "
      ]
     },
     "execution_count": 43,
     "metadata": {},
     "output_type": "execute_result"
    }
   ],
   "source": [
    "df=df.drop('2016', axis=1)  \n",
    "df"
   ]
  },
  {
   "cell_type": "code",
   "execution_count": null,
   "metadata": {},
   "outputs": [],
   "source": [
    "df.sort_values(by=['Month','Day'])  \n",
    "df.sort_values(by=['Month','Month'], ascending=False)   "
   ]
  },
  {
   "cell_type": "code",
   "execution_count": 46,
   "metadata": {},
   "outputs": [
    {
     "data": {
      "text/plain": [
       "0"
      ]
     },
     "execution_count": 46,
     "metadata": {},
     "output_type": "execute_result"
    }
   ],
   "source": [
    "# 查询某一字段数据为空的数量\n",
    "sum(pd.isnull(df['Day'])) "
   ]
  }
 ],
 "metadata": {
  "kernelspec": {
   "display_name": "Python 3",
   "language": "python",
   "name": "python3"
  },
  "language_info": {
   "codemirror_mode": {
    "name": "ipython",
    "version": 3
   },
   "file_extension": ".py",
   "mimetype": "text/x-python",
   "name": "python",
   "nbconvert_exporter": "python",
   "pygments_lexer": "ipython3",
   "version": "3.7.1"
  },
  "toc": {
   "base_numbering": 1,
   "nav_menu": {},
   "number_sections": true,
   "sideBar": true,
   "skip_h1_title": false,
   "title_cell": "Table of Contents",
   "title_sidebar": "Contents",
   "toc_cell": false,
   "toc_position": {},
   "toc_section_display": true,
   "toc_window_display": false
  }
 },
 "nbformat": 4,
 "nbformat_minor": 2
}
